{
  "nbformat": 4,
  "nbformat_minor": 0,
  "metadata": {
    "colab": {
      "name": "Basic ML.ipynb",
      "provenance": [],
      "authorship_tag": "ABX9TyPxfvFEB0TnXrrCSo6zB9Pu",
      "include_colab_link": true
    },
    "kernelspec": {
      "name": "python3",
      "display_name": "Python 3"
    },
    "language_info": {
      "name": "python"
    }
  },
  "cells": [
    {
      "cell_type": "markdown",
      "metadata": {
        "id": "view-in-github",
        "colab_type": "text"
      },
      "source": [
        "<a href=\"https://colab.research.google.com/github/DattaRamakrishnavarma/ML2021/blob/main/Basic_ML.ipynb\" target=\"_parent\"><img src=\"https://colab.research.google.com/assets/colab-badge.svg\" alt=\"Open In Colab\"/></a>"
      ]
    },
    {
      "cell_type": "markdown",
      "metadata": {
        "id": "GQ-nxTi9P79l"
      },
      "source": [
        " Python program for checking if given number is positive or not"
      ]
    },
    {
      "cell_type": "code",
      "metadata": {
        "colab": {
          "base_uri": "https://localhost:8080/"
        },
        "id": "TeJv8NUJQprx",
        "outputId": "84eb3e68-8d74-4826-d71d-dd5599ac39f9"
      },
      "source": [
        " \n",
        "x=int(input())\n",
        "if x>=0:\n",
        "  print(\"given number is positive\")\n",
        "else:\n",
        "  print(\"given number is negitive\")"
      ],
      "execution_count": null,
      "outputs": [
        {
          "output_type": "stream",
          "text": [
            "7\n",
            "given number is positive\n"
          ],
          "name": "stdout"
        }
      ]
    },
    {
      "cell_type": "markdown",
      "metadata": {
        "id": "nvfxx080UyHw"
      },
      "source": [
        " python program to check the given year is leap year or not"
      ]
    },
    {
      "cell_type": "code",
      "metadata": {
        "colab": {
          "base_uri": "https://localhost:8080/"
        },
        "id": "YDJNeE4IU-Ci",
        "outputId": "9d4710d2-8b89-4859-d332-0302f0240977"
      },
      "source": [
        " print(\"enter the year\")\n",
        "a= int(input())\n",
        "if (a%4==0 and a%100!=0) or (a%400==0):\n",
        "  print(\"given year is leap year\")\n",
        "else:\n",
        "  print(\"given year if not a leap year\")"
      ],
      "execution_count": null,
      "outputs": [
        {
          "output_type": "stream",
          "text": [
            "enter the year\n",
            "2002\n",
            "given year if not a leap year\n"
          ],
          "name": "stdout"
        }
      ]
    },
    {
      "cell_type": "markdown",
      "metadata": {
        "id": "RsISUeYxVMfL"
      },
      "source": [
        "python program to print sum of cubes upto given n number that means if we give a number n it will print 1^3+2^3+....n^3"
      ]
    },
    {
      "cell_type": "code",
      "metadata": {
        "colab": {
          "base_uri": "https://localhost:8080/"
        },
        "id": "SGuDxlnUVNpU",
        "outputId": "5bb7285f-6167-4721-9a6f-3009d4c62f34"
      },
      "source": [
        " n=int(input())\n",
        "s=0\n",
        "for i in range(0,n+1):\n",
        "  s+=i**3\n",
        "print(s)"
      ],
      "execution_count": null,
      "outputs": [
        {
          "output_type": "stream",
          "text": [
            "7\n",
            "784\n"
          ],
          "name": "stdout"
        }
      ]
    },
    {
      "cell_type": "markdown",
      "metadata": {
        "id": "TqpcGNWQVxs8"
      },
      "source": [
        " python program for adding factorials from 1 to n numbers, n is input and program will give 1!+2!+3!....n! as output"
      ]
    },
    {
      "cell_type": "code",
      "metadata": {
        "colab": {
          "base_uri": "https://localhost:8080/"
        },
        "id": "C32E-Zc8VzFl",
        "outputId": "708d785a-7ba8-436e-ea4f-be65a24c0780"
      },
      "source": [
        " print(\"enter a number\")\n",
        "n=int(input())\n",
        "fact=1\n",
        "summ=0\n",
        "for i in range(1,n+1):\n",
        "  fact*=i\n",
        "  summ+=fact\n",
        "print(\"sum of the factorials =\",summ)"
      ],
      "execution_count": null,
      "outputs": [
        {
          "output_type": "stream",
          "text": [
            "enter a number\n",
            "3\n",
            "sum of the factorials = 9\n"
          ],
          "name": "stdout"
        }
      ]
    },
    {
      "cell_type": "markdown",
      "metadata": {
        "id": "yP2Ax4nGWJas"
      },
      "source": [
        " python program to print second highest odd number in the given list of numbers if the input is 1 6 3 7 8 4 then the output is 3"
      ]
    },
    {
      "cell_type": "code",
      "metadata": {
        "colab": {
          "base_uri": "https://localhost:8080/"
        },
        "id": "7Cnwc-RDWVum",
        "outputId": "b285086a-f43f-4acd-b590-460260c2617b"
      },
      "source": [
        " l=[int(x) for x in input().split()]\n",
        "k = sorted(filter(lambda x : x%2==1,l))\n",
        "if len(k)>1:\n",
        "  print(k[1])\n",
        "else:\n",
        "  print(\"no solution\")"
      ],
      "execution_count": null,
      "outputs": [
        {
          "output_type": "stream",
          "text": [
            "7 3 3 7\n",
            "3\n"
          ],
          "name": "stdout"
        }
      ]
    }
  ]
}